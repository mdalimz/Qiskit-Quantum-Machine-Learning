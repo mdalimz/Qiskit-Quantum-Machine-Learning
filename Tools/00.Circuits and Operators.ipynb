{
 "cells": [
  {
   "cell_type": "markdown",
   "id": "fedaa156-6106-445d-adc0-63e797fbc5d8",
   "metadata": {},
   "source": [
    "# 0.1.Circuit library\n",
    "The Qiskit SDK includes a library of popular circuits which saves time researching, writing code, and debugging."
   ]
  },
  {
   "cell_type": "markdown",
   "id": "9b9634cc-19a0-40f9-a75f-49cb5e1697df",
   "metadata": {},
   "source": [
    "### 0.1.1 Standard gates\n",
    "Adding imported gates to the circuit, use the append method; the first argument is the gate, and the next argument is a list of qubits to apply the gate."
   ]
  },
  {
   "cell_type": "code",
   "execution_count": 26,
   "id": "25f3e7c2-88c7-41a8-a2d4-1effd9bf9077",
   "metadata": {},
   "outputs": [
    {
     "data": {
      "image/png": "[encoded data removed]",
      "text/plain": [
       "<Figure size 287.496x367.889 with 1 Axes>"
      ]
     },
     "execution_count": 26,
     "metadata": {},
     "output_type": "execute_result"
    }
   ],
   "source": [
    "from qiskit import QuantumCircuit\n",
    "from qiskit.circuit.library import HGate, MCXGate\n",
    "\n",
    "hadamard_gate= HGate()\n",
    "mcx_gate= MCXGate(3)\n",
    "\n",
    "qc= QuantumCircuit(4) #4 qubits\n",
    "qc.append(hadamard_gate, [0]) #adding hadamard\n",
    "qc.append(mcx_gate, [0,1, 2,3]) #adding mcx gates\n",
    "qc.draw(\"mpl\") # visualization"
   ]
  },
  {
   "cell_type": "markdown",
   "id": "59915d57-e7c1-410f-88ab-464946de53f5",
   "metadata": {},
   "source": [
    "### 0.1.2 N-local circuits\n",
    "- These circuits alternate layers of single-qubit rotation gates with layers of multi-qubit entangling gates."
   ]
  },
  {
   "cell_type": "code",
   "execution_count": null,
   "id": "cea110c9-2451-4a57-a7ad-c5cf5f3d8418",
   "metadata": {},
   "outputs": [],
   "source": [
    "from qiskit.circuit.library import TwoLocal\n",
    " \n",
    "two_local = TwoLocal(3, \"rx\", \"cz\")\n",
    "two_local.decompose().draw(\"mpl\")"
   ]
  },
  {
   "cell_type": "code",
   "execution_count": 37,
   "id": "ca81bc03-9b8c-4504-8a44-3c6399117ac1",
   "metadata": {},
   "outputs": [
    {
     "data": {
      "image/png": "[encoded data removed]",
      "text/plain": [
       "<Figure size 1207.22x284.278 with 1 Axes>"
      ]
     },
     "execution_count": 37,
     "metadata": {},
     "output_type": "execute_result"
    }
   ],
   "source": [
    "from qiskit.circuit.library import TwoLocal  #TwoLocal Class\n",
    "\n",
    "local= TwoLocal(3, \"rx\", \"cz\")\n",
    "local.decompose().draw(\"mpl\")"
   ]
  },
  {
   "cell_type": "markdown",
   "id": "4209d4ff-d60e-49b9-bfdf-e9d74849c66c",
   "metadata": {},
   "source": [
    "Let's break it down:\n",
    "\n",
    "from qiskit.circuit.library import TwoLocal: This line imports the TwoLocal class from the qiskit.circuit.library module. The TwoLocal class is used to construct a parameterized quantum circuit consisting of alternating layers of single-qubit rotations and two-qubit entangling gates.  These circuits are often used in variational quantum algorithms (VQAs) and quantum machine learning.\n",
    "\n",
    "- two_local = TwoLocal(3, \"rx\", \"cz\"): This line creates a TwoLocal circuit named two_local.\n",
    "\n",
    "3: Specifies that the circuit operates on 3 qubits.\n",
    "\"rx\": Specifies that the single-qubit rotation gates in the circuit should be rotations around the X-axis (rx). These rotations will be parameterized (meaning the rotation angles will be symbolic parameters that you can later bind to specific values).\n",
    "\"cz\": Specifies that the two-qubit entangling gates should be controlled-Z gates (cz). The cz gate flips the target qubit (the second qubit) if the control qubit (the first qubit) is in the |1⟩ state.\n",
    "- two_local.decompose().draw(\"mpl\"): This line does two things:\n",
    "\n",
    "two_local.decompose(): The decompose() method expands the TwoLocal circuit into its constituent gates. The TwoLocal circuit is a higher-level abstraction. decompose() replaces it with the actual sequence of rx and cz gates that make up the circuit. This is important for visualization and for running the circuit on a backend.\n",
    ".draw(\"mpl\"): This draws the decomposed circuit using Matplotlib (\"mpl\"). The drawing will visually represent the sequence of rx and cz gates applied to the qubits.\n",
    "What the code does:\n",
    "\n",
    "The code creates a quantum circuit with 3 qubits.  The circuit consists of alternating layers of:\n",
    "\n",
    "- Single-qubit rotations: An rx gate is applied to each of the 3 qubits. These rx gates will have symbolic parameters, so their rotation angles are not yet fixed.\n",
    "- Two-qubit entangling gates: A cz gate is applied between pairs of qubits. The default connectivity in TwoLocal is linear (0-1, 1-2). So, there will be a cz gate between qubit 0 and qubit 1, and another cz gate between qubit 1 and qubit 2.\n",
    "This pattern of alternating single-qubit rotations and two-qubit entangling gat"
   ]
  },
  {
   "cell_type": "code",
   "execution_count": 36,
   "id": "f9bd325e-c4c4-48ff-9433-5e48c2ef7e58",
   "metadata": {},
   "outputs": [
    {
     "ename": "NameError",
     "evalue": "name 'two_local' is not defined",
     "output_type": "error",
     "traceback": [
      "\u001b[1;31m---------------------------------------------------------------------------\u001b[0m",
      "\u001b[1;31mNameError\u001b[0m                                 Traceback (most recent call last)",
      "Cell \u001b[1;32mIn[36], line 1\u001b[0m\n\u001b[1;32m----> 1\u001b[0m \u001b[43mtwo_local\u001b[49m\u001b[38;5;241m.\u001b[39mparameters()\n\u001b[0;32m      2\u001b[0m \u001b[38;5;66;03m#ParameterView([ParameterVectorElement(θ[0]), ParameterVectorElement(θ[1]), ParameterVectorElement(θ[2]), ParameterVectorElement(θ[3]), ParameterVectorElement(θ[4]), ParameterVectorElement(θ[5]), ParameterVectorElement(θ[6]), ParameterVectorElement(θ[7]), ParameterVectorElement(θ[8]), ParameterVectorElement(θ[9]), ParameterVectorElement(θ[10]), ParameterVectorElement(θ[11])])\u001b[39;00m\n",
      "\u001b[1;31mNameError\u001b[0m: name 'two_local' is not defined"
     ]
    }
   ],
   "source": [
    "two_local.parameters()\n",
    "#ParameterView([ParameterVectorElement(θ[0]), ParameterVectorElement(θ[1]), ParameterVectorElement(θ[2]), ParameterVectorElement(θ[3]), ParameterVectorElement(θ[4]), ParameterVectorElement(θ[5]), ParameterVectorElement(θ[6]), ParameterVectorElement(θ[7]), ParameterVectorElement(θ[8]), ParameterVectorElement(θ[9]), ParameterVectorElement(θ[10]), ParameterVectorElement(θ[11])])\n"
   ]
  },
  {
   "cell_type": "code",
   "execution_count": null,
   "id": "bd1b1937-4a7f-4007-981a-e5a8b32c2f90",
   "metadata": {},
   "outputs": [],
   "source": []
  },
  {
   "cell_type": "code",
   "execution_count": null,
   "id": "edf62de7-c666-4a10-8e42-d82223d0f185",
   "metadata": {},
   "outputs": [],
   "source": []
  },
  {
   "cell_type": "code",
   "execution_count": null,
   "id": "ff57a565-7448-44bd-86c9-990c458be8db",
   "metadata": {},
   "outputs": [],
   "source": []
  },
  {
   "cell_type": "code",
   "execution_count": null,
   "id": "dd45538e-bf95-4169-a8e6-5fa043d7362d",
   "metadata": {},
   "outputs": [],
   "source": []
  },
  {
   "cell_type": "code",
   "execution_count": null,
   "id": "a09c04d4-e2dc-4509-a216-b9ce3525b83a",
   "metadata": {},
   "outputs": [],
   "source": []
  },
  {
   "cell_type": "code",
   "execution_count": null,
   "id": "98ff5f00-be77-48e8-9e55-78a602b2600f",
   "metadata": {},
   "outputs": [],
   "source": []
  },
  {
   "cell_type": "code",
   "execution_count": null,
   "id": "8e0e70fd-7b0e-4b2e-bf90-ef6c9feff4de",
   "metadata": {},
   "outputs": [],
   "source": []
  },
  {
   "cell_type": "code",
   "execution_count": null,
   "id": "ce470c8d-cf3a-4d2e-adda-1f4e1e4382bd",
   "metadata": {},
   "outputs": [],
   "source": []
  },
  {
   "cell_type": "code",
   "execution_count": null,
   "id": "9d860c93-b2d2-4c18-8783-5b8deeb6dadd",
   "metadata": {},
   "outputs": [],
   "source": []
  },
  {
   "cell_type": "code",
   "execution_count": null,
   "id": "16374bd0-0274-4b47-9801-1888a54c2474",
   "metadata": {},
   "outputs": [],
   "source": []
  },
  {
   "cell_type": "code",
   "execution_count": null,
   "id": "e2a15317-bc32-4099-954d-15c72b034181",
   "metadata": {},
   "outputs": [],
   "source": []
  },
  {
   "cell_type": "code",
   "execution_count": null,
   "id": "ba7d33cc-842c-4f8e-8406-cb28cd7452dd",
   "metadata": {},
   "outputs": [],
   "source": []
  },
  {
   "cell_type": "code",
   "execution_count": null,
   "id": "2948b513-ccbb-4cbf-8b5d-b59b22785fb2",
   "metadata": {},
   "outputs": [],
   "source": []
  }
 ],
 "metadata": {
  "kernelspec": {
   "display_name": "Python 3 (ipykernel)",
   "language": "python",
   "name": "python3"
  },
  "language_info": {
   "codemirror_mode": {
    "name": "ipython",
    "version": 3
   },
   "file_extension": ".py",
   "mimetype": "text/x-python",
   "name": "python",
   "nbconvert_exporter": "python",
   "pygments_lexer": "ipython3",
   "version": "3.12.8"
  }
 },
 "nbformat": 4,
 "nbformat_minor": 5
}
